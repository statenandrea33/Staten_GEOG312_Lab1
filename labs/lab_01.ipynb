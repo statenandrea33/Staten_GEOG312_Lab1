{
  "cells": [
    {
      "cell_type": "markdown",
      "metadata": {
        "id": "q5JKjp0mn-Cx"
      },
      "source": [
        "[![image](https://colab.research.google.com/assets/colab-badge.svg)](https://colab.research.google.com/github/giswqs/geog-312/blob/master/labs/lab_01.ipynb)\n",
        "[![image](https://binder.pangeo.io/badge_logo.svg)](https://gishub.org/geog312-pangeo)"
      ]
    },
    {
      "cell_type": "code",
      "execution_count": 26,
      "metadata": {
        "id": "sUJ24aU8n-C0",
        "outputId": "bf32396f-eb05-4a06-c189-73e9126e7428",
        "colab": {
          "base_uri": "https://localhost:8080/"
        }
      },
      "outputs": [
        {
          "output_type": "stream",
          "name": "stdout",
          "text": [
            "Submitted time: 2023-08-29 01:28:33.639033\n"
          ]
        }
      ],
      "source": [
        "from datetime import datetime\n",
        "\n",
        "now = datetime.now()\n",
        "print(f\"Submitted time: {now}\")"
      ]
    },
    {
      "cell_type": "markdown",
      "metadata": {
        "id": "pGv1N7gTn-C2"
      },
      "source": [
        "## Question 1\n",
        "\n",
        "**Simple Message:** Assign a message to a variable, and then print that message."
      ]
    },
    {
      "cell_type": "code",
      "execution_count": 27,
      "metadata": {
        "id": "JTqd8mfrn-C2",
        "outputId": "a4e3847b-36c4-4c27-b64e-a79342447697",
        "colab": {
          "base_uri": "https://localhost:8080/"
        }
      },
      "outputs": [
        {
          "output_type": "stream",
          "name": "stdout",
          "text": [
            "Hi, my name is Andrea!\n"
          ]
        }
      ],
      "source": [
        "message = \"Hi, my name is Andrea!\"\n",
        "print(message)"
      ]
    },
    {
      "cell_type": "markdown",
      "metadata": {
        "id": "KO3rrfTUn-C2"
      },
      "source": [
        "## Question 2\n",
        "**Simple Messages:** Assign a message to a variable, and print that message. Then change the value of the variable to a new message, and print the new message."
      ]
    },
    {
      "cell_type": "code",
      "execution_count": 28,
      "metadata": {
        "id": "6dsUZQWmn-C3",
        "outputId": "db467402-600e-4e64-f16d-d38d0a5bf882",
        "colab": {
          "base_uri": "https://localhost:8080/"
        }
      },
      "outputs": [
        {
          "output_type": "stream",
          "name": "stdout",
          "text": [
            "I am majoring in Political Science.\n",
            "I am majoring in GIST.\n"
          ]
        }
      ],
      "source": [
        "message = \"I am majoring in Political Science.\"\n",
        "print(message)\n",
        "message = \"I am majoring in GIST.\"\n",
        "print(message)"
      ]
    },
    {
      "cell_type": "markdown",
      "metadata": {
        "id": "O7Oo3cvTn-C3"
      },
      "source": [
        "## Question 3\n",
        "**Personal Message:** Use a variable to represent a person’s name, and print a message to that person. Your message should be simple, such as, “Hello Eric, would you like to learn some Python today?”"
      ]
    },
    {
      "cell_type": "code",
      "execution_count": 29,
      "metadata": {
        "id": "w9ECT8Eon-C4",
        "outputId": "48adcca6-520e-4391-a494-73a796b645f8",
        "colab": {
          "base_uri": "https://localhost:8080/"
        }
      },
      "outputs": [
        {
          "output_type": "stream",
          "name": "stdout",
          "text": [
            "Hello Max, how are you today?\n",
            "Hello MAX, how are you today?\n"
          ]
        }
      ],
      "source": [
        "name = \"Max\"\n",
        "message = f\"Hello {name}, how are you today?\"\n",
        "print(message)\n",
        "\n",
        "message = f\"Hello {name.upper()}, how are you today?\"\n",
        "print(message)"
      ]
    },
    {
      "cell_type": "markdown",
      "metadata": {
        "id": "1YuPAfiOn-C4"
      },
      "source": [
        "## Question 4\n",
        "**Name Cases:** Use a variable to represent a person’s name, and then print that person’s name in lowercase, uppercase, and title case."
      ]
    },
    {
      "cell_type": "code",
      "execution_count": 30,
      "metadata": {
        "id": "bzk9k20ln-C4",
        "outputId": "1b685e7a-929b-4c09-c1f8-c77c29bba823",
        "colab": {
          "base_uri": "https://localhost:8080/"
        }
      },
      "outputs": [
        {
          "output_type": "stream",
          "name": "stdout",
          "text": [
            "andrea\n",
            "ANDREA\n",
            "Andrea\n"
          ]
        }
      ],
      "source": [
        "name = \"andrea\"\n",
        "print(name.lower())\n",
        "print(name.upper())\n",
        "print(name.title())"
      ]
    },
    {
      "cell_type": "markdown",
      "metadata": {
        "id": "37VZ2D0Tn-C5"
      },
      "source": [
        "## Question 5\n",
        "**Famous Quote:** Find a quote from a famous person you admire. Print the quote and the name of its author. Your output should look something like the following, including the quotation marks:\n",
        "```\n",
        "Albert Einstein once said, “A person who never made a mistake never tried anything new.”\n",
        "```"
      ]
    },
    {
      "cell_type": "code",
      "execution_count": 31,
      "metadata": {
        "id": "vIqhjapGn-C5",
        "outputId": "5a38febf-ef84-479a-e5fe-13f31e2ed34e",
        "colab": {
          "base_uri": "https://localhost:8080/"
        }
      },
      "outputs": [
        {
          "output_type": "stream",
          "name": "stdout",
          "text": [
            "Eleanor Roosevelt once said, \"If life were predictable it would cease to be life, and be without flavor.\"\n"
          ]
        }
      ],
      "source": [
        "print('Eleanor Roosevelt once said, \"If life were predictable it would cease to be life, and be without flavor.\"')"
      ]
    },
    {
      "cell_type": "markdown",
      "metadata": {
        "id": "hv2qLDB5n-C5"
      },
      "source": [
        "## Question 6\n",
        "**Famous Quote 2:** Repeat Exercise 2-5, but this time, represent the famous person’s name using a variable called famous_person. Then compose your message and represent it with a new variable called message. Print your\n",
        "message."
      ]
    },
    {
      "cell_type": "code",
      "execution_count": 32,
      "metadata": {
        "id": "U_E2l0MPn-C5",
        "outputId": "b34517e6-7d38-4cfa-a00b-94a0c018eccc",
        "colab": {
          "base_uri": "https://localhost:8080/"
        }
      },
      "outputs": [
        {
          "output_type": "stream",
          "name": "stdout",
          "text": [
            "Eleanor Roosevelt once said, \"If life were predictable it would cease to be life, and be without flavor.\"\n"
          ]
        }
      ],
      "source": [
        "famous_person = \"Eleanor Roosevelt\"\n",
        "message = f'{famous_person} once said, \"If life were predictable it would cease to be life, and be without flavor.\"'\n",
        "print(message)"
      ]
    },
    {
      "cell_type": "markdown",
      "metadata": {
        "id": "z5DPcT0Tn-C5"
      },
      "source": [
        "## Question 7\n",
        "**Stripping Names:** Use a variable to represent a person’s name, and include some whitespace characters at the beginning and end of the name. Make sure you use each character combination, \"\\t\" and \"\\n\", at least once.\n",
        "Print the name once, so the whitespace around the name is displayed. Then print the name using each of the three stripping functions, lstrip(), rstrip(), and strip()."
      ]
    },
    {
      "cell_type": "code",
      "execution_count": 33,
      "metadata": {
        "id": "YMtrpQhcn-C5",
        "outputId": "47eae719-43b7-4901-e589-20da554f34ac",
        "colab": {
          "base_uri": "https://localhost:8080/"
        }
      },
      "outputs": [
        {
          "output_type": "stream",
          "name": "stdout",
          "text": [
            " \tandrea staten\n",
            "andrea staten\n",
            " \n",
            "andrea staten\n"
          ]
        }
      ],
      "source": [
        "my_name= ' \\tandrea staten\\n '\n",
        "print(my_name.rstrip())\n",
        "print(my_name.lstrip())\n",
        "print(my_name.strip())"
      ]
    },
    {
      "cell_type": "markdown",
      "metadata": {
        "id": "fmvxT2Ivn-C6"
      },
      "source": [
        "## Question 8\n",
        "**Number Eight:** Write addition, subtraction, multiplication, and division operations that each result in the number 8. Be sure to enclose your operations in print() calls to see the results. You should create four lines that look like this:\n",
        "\n",
        "```\n",
        "print(5 + 3)\n",
        "```\n",
        "Your output should simply be four lines with the number 8 appearing once on each line."
      ]
    },
    {
      "cell_type": "code",
      "execution_count": 34,
      "metadata": {
        "id": "icxxgd3mn-C6",
        "outputId": "1436723c-9052-41b3-91da-7f4be0696c86",
        "colab": {
          "base_uri": "https://localhost:8080/"
        }
      },
      "outputs": [
        {
          "output_type": "stream",
          "name": "stdout",
          "text": [
            "8\n",
            "8\n",
            "8\n",
            "8\n",
            "8.0\n"
          ]
        }
      ],
      "source": [
        "print(4 + 4)\n",
        "print(13 - 5)\n",
        "print(2 * 4)\n",
        "print(80 // 10)\n",
        "# Did double // to get rid of the float.\n",
        "print(80 / 10)"
      ]
    },
    {
      "cell_type": "markdown",
      "metadata": {
        "id": "4JHsOhdon-C6"
      },
      "source": [
        "## Question 9\n",
        "**Favorite Number:**  Use a variable to represent your favorite number. Then, using that variable, create a message that reveals your favorite number. Print that message."
      ]
    },
    {
      "cell_type": "code",
      "execution_count": 35,
      "metadata": {
        "id": "RmBlwGtRn-C6",
        "outputId": "2915e157-8c34-4225-f662-8d33e48fe6db",
        "colab": {
          "base_uri": "https://localhost:8080/"
        }
      },
      "outputs": [
        {
          "output_type": "stream",
          "name": "stdout",
          "text": [
            "Do you have a favorite number? Mine is 33.\n"
          ]
        }
      ],
      "source": [
        "favorite_number = '33'\n",
        "message = f\"Do you have a favorite number? Mine is {favorite_number}.\"\n",
        "print(message)"
      ]
    },
    {
      "cell_type": "markdown",
      "metadata": {
        "id": "sfHjwsHsn-C6"
      },
      "source": [
        "## Question 10\n",
        "**Adding Comments:** Choose two of the programs you’ve written, and add at least one comment to each. If you don’t have anything specific to write because your programs are too simple at this point, just add your name and\n",
        "the current date at the top of each program file. Then write one sentence describing what the program does."
      ]
    },
    {
      "cell_type": "code",
      "execution_count": 36,
      "metadata": {
        "id": "uSK_Ak7Kn-C6",
        "outputId": "cde269ca-38eb-4c5b-95fe-9e50095b1fcd",
        "colab": {
          "base_uri": "https://localhost:8080/"
        }
      },
      "outputs": [
        {
          "output_type": "stream",
          "name": "stdout",
          "text": [
            "8\n",
            "8\n",
            "8\n",
            "8\n",
            "8.0\n",
            "Hello Max, how are you today?\n",
            "Hello MAX, how are you today?\n"
          ]
        }
      ],
      "source": [
        "## 1st program\n",
        "print(4 + 4)\n",
        "print(13 - 5)\n",
        "print(2 * 4)\n",
        "print(80 // 10)\n",
        "# Did double // to get rid of the float. Using the // operator allows the result\n",
        "# to be rounded to the nearest whole number.\n",
        "print(80 / 10)\n",
        "\n",
        "## 2nd program\n",
        "name = \"Max\"\n",
        "message = f\"Hello {name}, how are you today?\"\n",
        "print(message)\n",
        "# This message prompt will print the name how it is typed in the name variable.\n",
        "\n",
        "message = f\"Hello {name.upper()}, how are you today?\"\n",
        "print(message)\n",
        "# This message prompt will print the name in all upper case because of the\n",
        "# method that is used within the message variable.\n"
      ]
    }
  ],
  "metadata": {
    "hide_input": false,
    "kernelspec": {
      "display_name": "Python 3 (ipykernel)",
      "language": "python",
      "name": "python3"
    },
    "language_info": {
      "codemirror_mode": {
        "name": "ipython",
        "version": 3
      },
      "file_extension": ".py",
      "mimetype": "text/x-python",
      "name": "python",
      "nbconvert_exporter": "python",
      "pygments_lexer": "ipython3",
      "version": "3.8.10"
    },
    "toc": {
      "base_numbering": 1,
      "nav_menu": {},
      "number_sections": true,
      "sideBar": true,
      "skip_h1_title": false,
      "title_cell": "Table of Contents",
      "title_sidebar": "Contents",
      "toc_cell": false,
      "toc_position": {},
      "toc_section_display": true,
      "toc_window_display": false
    },
    "varInspector": {
      "cols": {
        "lenName": 16,
        "lenType": 16,
        "lenVar": 40
      },
      "kernels_config": {
        "python": {
          "delete_cmd_postfix": "",
          "delete_cmd_prefix": "del ",
          "library": "var_list.py",
          "varRefreshCmd": "print(var_dic_list())"
        },
        "r": {
          "delete_cmd_postfix": ") ",
          "delete_cmd_prefix": "rm(",
          "library": "var_list.r",
          "varRefreshCmd": "cat(var_dic_list()) "
        }
      },
      "types_to_exclude": [
        "module",
        "function",
        "builtin_function_or_method",
        "instance",
        "_Feature"
      ],
      "window_display": false
    },
    "colab": {
      "provenance": []
    }
  },
  "nbformat": 4,
  "nbformat_minor": 0
}